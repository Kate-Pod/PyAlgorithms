{
 "cells": [
  {
   "cell_type": "markdown",
   "metadata": {},
   "source": [
    "### Dynamic arrays"
   ]
  },
  {
   "cell_type": "markdown",
   "metadata": {},
   "source": [
    "Given 2 strings, check to see if they are anagrams."
   ]
  },
  {
   "cell_type": "code",
   "execution_count": 1,
   "metadata": {},
   "outputs": [],
   "source": [
    "def anagram(s1,s2):\n",
    "    # Remove spaces and lowercase letters\n",
    "    s1 = s1.replace(' ', '').lower()\n",
    "    s2 = s2.replace(' ', '').lower()\n",
    "    \n",
    "    # Return boolean for sorted match\n",
    "    return sorted(s1) == sorted(s2)    "
   ]
  },
  {
   "cell_type": "code",
   "execution_count": 2,
   "metadata": {},
   "outputs": [
    {
     "data": {
      "text/plain": [
       "True"
      ]
     },
     "execution_count": 2,
     "metadata": {},
     "output_type": "execute_result"
    }
   ],
   "source": [
    "anagram('dog', 'god')"
   ]
  },
  {
   "cell_type": "code",
   "execution_count": 3,
   "metadata": {},
   "outputs": [
    {
     "data": {
      "text/plain": [
       "True"
      ]
     },
     "execution_count": 3,
     "metadata": {},
     "output_type": "execute_result"
    }
   ],
   "source": [
    "anagram('clint eastwood', 'old west action')"
   ]
  },
  {
   "cell_type": "markdown",
   "metadata": {},
   "source": [
    "Not an optimal solution since it is using a python module"
   ]
  },
  {
   "cell_type": "code",
   "execution_count": 13,
   "metadata": {},
   "outputs": [],
   "source": [
    "def anagram2(s1,s2):\n",
    "    # Remove spaces and lowercase letters\n",
    "    s1 = s1.replace(' ', '').lower()\n",
    "    s2 = s2.replace(' ', '').lower()\n",
    "    \n",
    "    # check if same number of letters\n",
    "    if len(s1) != len(s2):\n",
    "        print(False)\n",
    "\n",
    "    # count frequency of each letter\n",
    "    count = {}\n",
    "\n",
    "    for letter in s1:\n",
    "        # for every letter in the first string\n",
    "        if letter in count:\n",
    "            count[letter] +=1 # add 1 to that letter key\n",
    "        else:\n",
    "            count[letter] = 1\n",
    "\n",
    "            # do reverse for second string\n",
    "\n",
    "    for letter in s2:\n",
    "        if letter in count:\n",
    "            count[letter] -= 1\n",
    "        else:\n",
    "            count[letter] = 1\n",
    "\n",
    "    for k in count:\n",
    "        if count[k] != 0:\n",
    "            return False\n",
    "\n",
    "    return True"
   ]
  },
  {
   "cell_type": "code",
   "execution_count": 14,
   "metadata": {},
   "outputs": [
    {
     "data": {
      "text/plain": [
       "True"
      ]
     },
     "execution_count": 14,
     "metadata": {},
     "output_type": "execute_result"
    }
   ],
   "source": [
    "anagram2('clint eastwood', 'old west action')"
   ]
  },
  {
   "cell_type": "markdown",
   "metadata": {},
   "source": [
    "### Array Algorithms"
   ]
  },
  {
   "cell_type": "markdown",
   "metadata": {},
   "source": [
    "Array pair sum\n",
    "Given an integer array, output all the unique pairs that sum up to a specific value k.\n",
    "pair_sum([1,3,2,2],4)\n",
    "would return 2 pairs:\n",
    "(1,3)\n",
    "(2,2)"
   ]
  },
  {
   "cell_type": "code",
   "execution_count": 20,
   "metadata": {},
   "outputs": [
    {
     "name": "stdout",
     "output_type": "stream",
     "text": [
      "(1, 3)\n",
      "(2, 2)\n"
     ]
    }
   ],
   "source": [
    "def pair_sum(array, k):\n",
    "    if len(array) < 2:\n",
    "        return print('Too small')\n",
    "    \n",
    "    seen = set()\n",
    "    output = set()\n",
    "    \n",
    "    for num in array:\n",
    "        target = k - num\n",
    "        \n",
    "        if target not in seen:\n",
    "            seen.add(num)\n",
    "        else:\n",
    "            output.add((min(num, target), max(num,target)))\n",
    "    print('\\n'.join(map(str,list(output))))\n",
    "    \n",
    "pair_sum([1,3,2,2],4)"
   ]
  }
 ],
 "metadata": {
  "kernelspec": {
   "display_name": "Python 3",
   "language": "python",
   "name": "python3"
  },
  "language_info": {
   "codemirror_mode": {
    "name": "ipython",
    "version": 3
   },
   "file_extension": ".py",
   "mimetype": "text/x-python",
   "name": "python",
   "nbconvert_exporter": "python",
   "pygments_lexer": "ipython3",
   "version": "3.8.5"
  }
 },
 "nbformat": 4,
 "nbformat_minor": 4
}
